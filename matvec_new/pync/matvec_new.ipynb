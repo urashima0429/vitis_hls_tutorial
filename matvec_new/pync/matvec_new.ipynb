{
 "cells": [
  {
   "cell_type": "code",
   "execution_count": 1,
   "id": "3e5dd851-ee33-4d74-9c6f-0febd8c74b5b",
   "metadata": {},
   "outputs": [
    {
     "data": {
      "application/javascript": [
       "\n",
       "try {\n",
       "require(['notebook/js/codecell'], function(codecell) {\n",
       "  codecell.CodeCell.options_default.highlight_modes[\n",
       "      'magic_text/x-csrc'] = {'reg':[/^%%microblaze/]};\n",
       "  Jupyter.notebook.events.one('kernel_ready.Kernel', function(){\n",
       "      Jupyter.notebook.get_cells().map(function(cell){\n",
       "          if (cell.cell_type == 'code'){ cell.auto_highlight(); } }) ;\n",
       "  });\n",
       "});\n",
       "} catch (e) {};\n"
      ]
     },
     "metadata": {},
     "output_type": "display_data"
    },
    {
     "data": {
      "application/javascript": [
       "\n",
       "try {\n",
       "require(['notebook/js/codecell'], function(codecell) {\n",
       "  codecell.CodeCell.options_default.highlight_modes[\n",
       "      'magic_text/x-csrc'] = {'reg':[/^%%pybind11/]};\n",
       "  Jupyter.notebook.events.one('kernel_ready.Kernel', function(){\n",
       "      Jupyter.notebook.get_cells().map(function(cell){\n",
       "          if (cell.cell_type == 'code'){ cell.auto_highlight(); } }) ;\n",
       "  });\n",
       "});\n",
       "} catch (e) {};\n"
      ]
     },
     "metadata": {},
     "output_type": "display_data"
    }
   ],
   "source": [
    "from pynq import Overlay\n",
    "from pynq import MMIO\n",
    "from pynq import allocate\n",
    "import pynq.lib.dma\n",
    "import numpy as np\n",
    "import cv2\n",
    "%matplotlib inline\n",
    "import matplotlib . pyplot as plt\n",
    "import time"
   ]
  },
  {
   "cell_type": "code",
   "execution_count": 2,
   "id": "86ee74d0-215e-4709-8026-3561cb9e514c",
   "metadata": {},
   "outputs": [],
   "source": [
    "project_dir = \"/root/jupyter_notebooks/projects/matvec_new/\"\n",
    "base = Overlay(project_dir + \"matvec_new.bit\")"
   ]
  },
  {
   "cell_type": "code",
   "execution_count": 3,
   "id": "76257e51-18a3-43a6-8fb5-9634874086d2",
   "metadata": {},
   "outputs": [
    {
     "data": {
      "text/plain": [
       "RegisterMap {\n",
       "  CTRL = Register(AP_START=0, AP_DONE=0, AP_IDLE=1, AP_READY=0, RESERVED_1=0, AUTO_RESTART=0, RESERVED_2=0, INTERRUPT=0, RESERVED_3=0),\n",
       "  GIER = Register(Enable=0, RESERVED=0),\n",
       "  IP_IER = Register(CHAN0_INT_EN=0, CHAN1_INT_EN=0, RESERVED_0=0),\n",
       "  IP_ISR = Register(CHAN0_INT_ST=0, CHAN1_INT_ST=0, RESERVED_0=0),\n",
       "  mat = Register(mat=write-only),\n",
       "  vec = Register(vec=write-only),\n",
       "  out_r = Register(out_r=write-only),\n",
       "  vec_len = Register(vec_len=write-only),\n",
       "  out_len = Register(out_len=write-only)\n",
       "}"
      ]
     },
     "execution_count": 3,
     "metadata": {},
     "output_type": "execute_result"
    }
   ],
   "source": [
    "registers = base.matvec_new_0.register_map\n",
    "registers"
   ]
  },
  {
   "cell_type": "code",
   "execution_count": 4,
   "id": "b2043bc6-2eb8-4fde-9a6d-93d76af8ddfc",
   "metadata": {},
   "outputs": [],
   "source": [
    "vec_len = 1024 * 4\n",
    "out_len = 1024 * 4\n",
    "mat_shape = (out_len, vec_len)\n",
    "vec_shape = (vec_len,)\n",
    "out_shape = (out_len,)\n",
    "mat = allocate(mat_shape, dtype=np.int32, cacheable=False)\n",
    "vec = allocate(vec_shape, dtype=np.int32, cacheable=False)\n",
    "out = allocate(out_shape, dtype=np.int32, cacheable=False)"
   ]
  },
  {
   "cell_type": "code",
   "execution_count": 5,
   "id": "8b39e323-af20-454e-b019-c19230f95ba5",
   "metadata": {},
   "outputs": [],
   "source": [
    "mat[:] = np.arange(out_len * vec_len, dtype=np.int32).reshape(mat_shape)\n",
    "vec[:] = np.arange(vec_len, dtype=np.int32)\n",
    "out[:] = np.zeros(shape=out_shape, dtype=np.int32)"
   ]
  },
  {
   "cell_type": "code",
   "execution_count": 6,
   "id": "83a5869e-bf10-4f72-9fd9-dde033dbb27e",
   "metadata": {},
   "outputs": [],
   "source": [
    "registers.mat.mat = mat.device_address\n",
    "registers.vec.vec = vec.device_address\n",
    "registers.out_r.out_r = out.device_address\n",
    "registers.vec_len.vec_len = vec_len\n",
    "registers.out_len.out_len = out_len"
   ]
  },
  {
   "cell_type": "code",
   "execution_count": 7,
   "id": "fcc9a564-78b7-4caa-a5e5-75806661ffc7",
   "metadata": {},
   "outputs": [],
   "source": [
    "start = time.perf_counter()\n",
    "registers.CTRL.AP_START = 1\n",
    "while True:\n",
    "    if registers.CTRL.AP_IDLE:\n",
    "        break\n",
    "end = time.perf_counter()"
   ]
  },
  {
   "cell_type": "code",
   "execution_count": 8,
   "id": "701a1867-98cd-411e-9ad1-50c76a2fa861",
   "metadata": {},
   "outputs": [
    {
     "data": {
      "text/plain": [
       "0.028561307000927627"
      ]
     },
     "execution_count": 8,
     "metadata": {},
     "output_type": "execute_result"
    }
   ],
   "source": [
    "time_diff = end - start\n",
    "time_diff"
   ]
  },
  {
   "cell_type": "code",
   "execution_count": 9,
   "id": "4ed88944-cbe8-4ccf-b492-1136fb99c247",
   "metadata": {},
   "outputs": [
    {
     "data": {
      "text/plain": [
       "0.07981275900237961"
      ]
     },
     "execution_count": 9,
     "metadata": {},
     "output_type": "execute_result"
    }
   ],
   "source": [
    "_mat = np.zeros(shape=mat_shape, dtype=np.int32)\n",
    "_vec = np.zeros(shape=vec_shape, dtype=np.int32)\n",
    "_mat[:] = mat\n",
    "_vec[:] = vec\n",
    "start = time.perf_counter()\n",
    "expected = np.matmul(_mat, _vec)\n",
    "end = time.perf_counter()\n",
    "time_diff = end - start\n",
    "time_diff"
   ]
  },
  {
   "cell_type": "code",
   "execution_count": 10,
   "id": "6c1e1d53-5578-46a5-913d-c7091f93924e",
   "metadata": {},
   "outputs": [
    {
     "data": {
      "text/plain": [
       "PynqBuffer(0)"
      ]
     },
     "execution_count": 10,
     "metadata": {},
     "output_type": "execute_result"
    }
   ],
   "source": [
    "diff = np.add.reduce(expected - out)\n",
    "diff"
   ]
  },
  {
   "cell_type": "code",
   "execution_count": null,
   "id": "3de2b21c-c2ea-4aaa-a35e-d43d8c6991b1",
   "metadata": {},
   "outputs": [],
   "source": []
  }
 ],
 "metadata": {
  "kernelspec": {
   "display_name": "Python 3 (ipykernel)",
   "language": "python",
   "name": "python3"
  },
  "language_info": {
   "codemirror_mode": {
    "name": "ipython",
    "version": 3
   },
   "file_extension": ".py",
   "mimetype": "text/x-python",
   "name": "python",
   "nbconvert_exporter": "python",
   "pygments_lexer": "ipython3",
   "version": "3.10.12"
  }
 },
 "nbformat": 4,
 "nbformat_minor": 5
}
