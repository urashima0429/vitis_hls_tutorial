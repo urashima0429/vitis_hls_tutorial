{
 "cells": [
  {
   "cell_type": "code",
   "execution_count": 1,
   "id": "cf30ce5e-7a60-48a0-9ee4-9b0cac01559d",
   "metadata": {},
   "outputs": [
    {
     "data": {
      "application/javascript": [
       "\n",
       "try {\n",
       "require(['notebook/js/codecell'], function(codecell) {\n",
       "  codecell.CodeCell.options_default.highlight_modes[\n",
       "      'magic_text/x-csrc'] = {'reg':[/^%%microblaze/]};\n",
       "  Jupyter.notebook.events.one('kernel_ready.Kernel', function(){\n",
       "      Jupyter.notebook.get_cells().map(function(cell){\n",
       "          if (cell.cell_type == 'code'){ cell.auto_highlight(); } }) ;\n",
       "  });\n",
       "});\n",
       "} catch (e) {};\n"
      ]
     },
     "metadata": {},
     "output_type": "display_data"
    },
    {
     "data": {
      "application/javascript": [
       "\n",
       "try {\n",
       "require(['notebook/js/codecell'], function(codecell) {\n",
       "  codecell.CodeCell.options_default.highlight_modes[\n",
       "      'magic_text/x-csrc'] = {'reg':[/^%%pybind11/]};\n",
       "  Jupyter.notebook.events.one('kernel_ready.Kernel', function(){\n",
       "      Jupyter.notebook.get_cells().map(function(cell){\n",
       "          if (cell.cell_type == 'code'){ cell.auto_highlight(); } }) ;\n",
       "  });\n",
       "});\n",
       "} catch (e) {};\n"
      ]
     },
     "metadata": {},
     "output_type": "display_data"
    }
   ],
   "source": [
    "from pynq import Overlay\n",
    "from pynq import MMIO\n",
    "from pynq import allocate\n",
    "import pynq.lib.dma\n",
    "import numpy as np\n",
    "import cv2\n",
    "%matplotlib inline\n",
    "import matplotlib . pyplot as plt\n",
    "import time"
   ]
  },
  {
   "cell_type": "code",
   "execution_count": 2,
   "id": "97c54fc2-e8de-40e7-b2aa-90a73f4ac3d5",
   "metadata": {},
   "outputs": [],
   "source": [
    "project_dir = \"/root/jupyter_notebooks/projects/matvec_new/\"\n",
    "base = Overlay(project_dir + \"matvec_old.bit\")"
   ]
  },
  {
   "cell_type": "code",
   "execution_count": 3,
   "id": "eb9ed3ec-4a3f-4b7b-aed7-2a7c639cc020",
   "metadata": {},
   "outputs": [
    {
     "data": {
      "text/plain": [
       "RegisterMap {\n",
       "  CTRL = Register(AP_START=0, AP_DONE=0, AP_IDLE=1, AP_READY=0, RESERVED_1=0, AUTO_RESTART=0, RESERVED_2=0, INTERRUPT=0, RESERVED_3=0),\n",
       "  GIER = Register(Enable=0, RESERVED=0),\n",
       "  IP_IER = Register(CHAN0_INT_EN=0, CHAN1_INT_EN=0, RESERVED_0=0),\n",
       "  IP_ISR = Register(CHAN0_INT_ST=0, CHAN1_INT_ST=0, RESERVED_0=0),\n",
       "  mat = Register(mat=write-only),\n",
       "  vec = Register(vec=write-only),\n",
       "  out_r = Register(out_r=write-only),\n",
       "  vec_len = Register(vec_len=write-only),\n",
       "  out_len = Register(out_len=write-only)\n",
       "}"
      ]
     },
     "execution_count": 3,
     "metadata": {},
     "output_type": "execute_result"
    }
   ],
   "source": [
    "registers = base.matvec_0.register_map\n",
    "registers"
   ]
  },
  {
   "cell_type": "code",
   "execution_count": 4,
   "id": "30051c3a-1e59-4c05-959a-fd125b31535c",
   "metadata": {},
   "outputs": [],
   "source": [
    "vec_len = 1024 * 4\n",
    "out_len = 1024 * 4\n",
    "mat_shape = (out_len, vec_len)\n",
    "vec_shape = (vec_len,)\n",
    "out_shape = (out_len,)\n",
    "mat = allocate(mat_shape, dtype=np.int32, cacheable=False)\n",
    "vec = allocate(vec_shape, dtype=np.int32, cacheable=False)\n",
    "out = allocate(out_shape, dtype=np.int32, cacheable=False)"
   ]
  },
  {
   "cell_type": "code",
   "execution_count": 5,
   "id": "fee92f0c-8131-4992-a16f-55fe9668a90b",
   "metadata": {},
   "outputs": [],
   "source": [
    "mat[:] = np.arange(out_len * vec_len, dtype=np.int32).reshape(mat_shape)\n",
    "vec[:] = np.arange(vec_len, dtype=np.int32)\n",
    "out[:] = np.zeros(shape=out_shape, dtype=np.int32)"
   ]
  },
  {
   "cell_type": "code",
   "execution_count": 6,
   "id": "a8fb90d7-d1ac-49ee-a549-f2aea37ecee1",
   "metadata": {},
   "outputs": [],
   "source": [
    "registers.mat.mat = mat.device_address\n",
    "registers.vec.vec = vec.device_address\n",
    "registers.out_r.out_r = out.device_address\n",
    "registers.vec_len.vec_len = vec_len\n",
    "registers.out_len.out_len = out_len"
   ]
  },
  {
   "cell_type": "code",
   "execution_count": 7,
   "id": "9dc31a87-b9da-4c43-a650-0da30a7cca60",
   "metadata": {},
   "outputs": [],
   "source": [
    "start = time.perf_counter()\n",
    "registers.CTRL.AP_START = 1\n",
    "while True:\n",
    "    if registers.CTRL.AP_IDLE:\n",
    "        break\n",
    "end = time.perf_counter()"
   ]
  },
  {
   "cell_type": "code",
   "execution_count": 8,
   "id": "26c6d048-7094-4e6b-9b4f-df5cfd364e2f",
   "metadata": {},
   "outputs": [
    {
     "data": {
      "text/plain": [
       "0.14202678999572527"
      ]
     },
     "execution_count": 8,
     "metadata": {},
     "output_type": "execute_result"
    }
   ],
   "source": [
    "time_diff = end - start\n",
    "time_diff"
   ]
  },
  {
   "cell_type": "code",
   "execution_count": 9,
   "id": "33992bb8-033e-4584-bcd5-a91edd895e85",
   "metadata": {},
   "outputs": [
    {
     "data": {
      "text/plain": [
       "0.07998695099377073"
      ]
     },
     "execution_count": 9,
     "metadata": {},
     "output_type": "execute_result"
    }
   ],
   "source": [
    "_mat = np.zeros(shape=mat_shape, dtype=np.int32)\n",
    "_vec = np.zeros(shape=vec_shape, dtype=np.int32)\n",
    "_mat[:] = mat\n",
    "_vec[:] = vec\n",
    "start = time.perf_counter()\n",
    "expected = np.matmul(_mat, _vec)\n",
    "end = time.perf_counter()\n",
    "time_diff = end - start\n",
    "time_diff"
   ]
  },
  {
   "cell_type": "code",
   "execution_count": 10,
   "id": "cf193d6d-cc6b-49b0-a57e-4ec9fa8d8b03",
   "metadata": {},
   "outputs": [
    {
     "data": {
      "text/plain": [
       "PynqBuffer(0)"
      ]
     },
     "execution_count": 10,
     "metadata": {},
     "output_type": "execute_result"
    }
   ],
   "source": [
    "diff = np.add.reduce(expected - out)\n",
    "diff"
   ]
  },
  {
   "cell_type": "code",
   "execution_count": null,
   "id": "2eac394e-cd92-4c71-a41f-77cc93881117",
   "metadata": {},
   "outputs": [],
   "source": []
  }
 ],
 "metadata": {
  "kernelspec": {
   "display_name": "Python 3 (ipykernel)",
   "language": "python",
   "name": "python3"
  },
  "language_info": {
   "codemirror_mode": {
    "name": "ipython",
    "version": 3
   },
   "file_extension": ".py",
   "mimetype": "text/x-python",
   "name": "python",
   "nbconvert_exporter": "python",
   "pygments_lexer": "ipython3",
   "version": "3.10.12"
  }
 },
 "nbformat": 4,
 "nbformat_minor": 5
}
